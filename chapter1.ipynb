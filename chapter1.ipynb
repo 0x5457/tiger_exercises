{
 "cells": [
  {
   "cell_type": "code",
   "execution_count": 39,
   "metadata": {},
   "outputs": [],
   "source": [
    "type BoxedStm = Box<Stm>;\n",
    "type BoxedExp = Box<Exp>;\n",
    "type BoxedExpList = Box<ExpList>;\n",
    "\n",
    "enum Stm {\n",
    "    Compound(BoxedStm, BoxedStm),\n",
    "    Assign { id: String, exp: BoxedExp },\n",
    "    Print(BoxedExpList),\n",
    "}\n",
    "impl Stm {\n",
    "    fn boxed_compound(s1: BoxedStm, s2: BoxedStm) -> BoxedStm {\n",
    "        Box::new(Stm::Compound(s1, s2))\n",
    "    }\n",
    "\n",
    "    fn boxed_assign(id: String, exp: BoxedExp) -> BoxedStm {\n",
    "        Box::new(Stm::Assign { id, exp })\n",
    "    }\n",
    "\n",
    "    fn boxed_print(expList: BoxedExpList) -> BoxedStm {\n",
    "        Box::new(Stm::Print(expList))\n",
    "    }\n",
    "}\n",
    "\n",
    "enum BinOp {\n",
    "    Plus,\n",
    "    Minus,\n",
    "    Times,\n",
    "    Div,\n",
    "}\n",
    "\n",
    "enum Exp {\n",
    "    Id(String),\n",
    "    Num(i32),\n",
    "    Op {\n",
    "        left: BoxedExp,\n",
    "        op: BinOp,\n",
    "        right: BoxedExp,\n",
    "    },\n",
    "    Eseq(BoxedStm, BoxedExp),\n",
    "}\n",
    "\n",
    "impl Exp {\n",
    "    fn boxed_id(id: String) -> BoxedExp {\n",
    "        Box::new(Exp::Id(id))\n",
    "    }\n",
    "\n",
    "    fn boxed_num(num: i32) -> BoxedExp {\n",
    "        Box::new(Exp::Num(num))\n",
    "    }\n",
    "\n",
    "    fn boxed_op(left: BoxedExp, op: BinOp, right: BoxedExp) -> BoxedExp {\n",
    "        Box::new(Exp::Op { left, op, right })\n",
    "    }\n",
    "\n",
    "    fn boxed_eseq(stm: BoxedStm, exp: BoxedExp) -> BoxedExp {\n",
    "        Box::new(Exp::Eseq(stm, exp))\n",
    "    }\n",
    "}\n",
    "\n",
    "enum ExpList {\n",
    "    Pair { head: BoxedExp, tail: BoxedExpList },\n",
    "    Last(BoxedExp),\n",
    "}\n",
    "\n",
    "impl ExpList {\n",
    "    fn boxed_pair(head: BoxedExp, tail: BoxedExpList) -> BoxedExpList {\n",
    "        Box::new(ExpList::Pair { head, tail })\n",
    "    }\n",
    "    fn boxed_last(exp: BoxedExp) -> BoxedExpList {\n",
    "        Box::new(ExpList::Last(exp))\n",
    "    }\n",
    "}\n",
    "\n",
    "// a := 5 + 3 ; b := ( print ( a , a - 1) , 10 * a) ; print ( b )\n",
    "let prog = Stm::boxed_compound(\n",
    "    Stm::boxed_assign(\n",
    "        \"a\".to_owned(),\n",
    "        Exp::boxed_op(Exp::boxed_num(5), BinOp::Plus, Exp::boxed_num(3)),\n",
    "    ),\n",
    "    Stm::boxed_compound(\n",
    "        Stm::boxed_assign(\n",
    "            \"b\".to_owned(),\n",
    "            Exp::boxed_eseq(\n",
    "                Stm::boxed_print(ExpList::boxed_pair(\n",
    "                    Exp::boxed_id(\"a\".to_owned()),\n",
    "                    ExpList::boxed_last(Exp::boxed_op(\n",
    "                        Exp::boxed_id(\"a\".to_owned()),\n",
    "                        BinOp::Minus,\n",
    "                        Exp::boxed_num(1),\n",
    "                    )),\n",
    "                )),\n",
    "                Exp::boxed_op(\n",
    "                    Exp::boxed_num(10),\n",
    "                    BinOp::Times,\n",
    "                    Exp::boxed_id(\"a\".to_owned()),\n",
    "                ),\n",
    "            ),\n",
    "        ),\n",
    "        Stm::boxed_print(ExpList::boxed_last(Exp::boxed_id(\"b\".to_owned()))),\n",
    "    ),\n",
    ");\n"
   ]
  },
  {
   "cell_type": "markdown",
   "metadata": {},
   "source": [
    "（1） 写一个函数 int maxargs(A_stm)，告知给定语句中任意子表达式内的 print 语句的参数个数。例如，maxargs(prog) 的值是 2。"
   ]
  },
  {
   "cell_type": "code",
   "execution_count": 28,
   "metadata": {
    "scrolled": true
   },
   "outputs": [
    {
     "name": "stdout",
     "output_type": "stream",
     "text": [
      "print maxargs is 2.\n"
     ]
    }
   ],
   "source": [
    "fn maxargs(stm: BoxedStm) -> usize {\n",
    "    match *stm {\n",
    "        Stm::Compound(stm1, stm2) => maxargs(stm1).max(maxargs(stm2)),\n",
    "        Stm::Assign { exp, .. } => max_exp_args(exp),\n",
    "        Stm::Print(expList) => count_exp_list(expList),\n",
    "    }\n",
    "}\n",
    "\n",
    "fn max_exp_args(exp: BoxedExp) -> usize {\n",
    "    match *exp {\n",
    "        Exp::Op { left, right, .. } => max_exp_args(left).max(max_exp_args(right)),\n",
    "        Exp::Eseq(stm, exp) => maxargs(stm).max(max_exp_args(exp)),\n",
    "        _ => 0,\n",
    "    }\n",
    "}\n",
    "\n",
    "fn count_exp_list(expList: BoxedExpList) -> usize {\n",
    "    match *expList {\n",
    "        ExpList::Pair { head, tail } => max_exp_args(head).max(1 + count_exp_list(tail)),\n",
    "        ExpList::Last(exp) => 1 + max_exp_args(exp),\n",
    "    }\n",
    "}\n",
    "\n",
    "\n",
    "println!(\"print maxargs is {:?}.\", maxargs(prog));\n"
   ]
  },
  {
   "cell_type": "markdown",
   "metadata": {},
   "source": [
    "（2） 写一个函数 void interp(A_stm), 对一个用这种直线式程序语言写的程序进行“解释”，为了用“函数式程序设计”风格来编写该函数（这种风格不使用赋值语句），要在声明局部变量的同时对它进行初始化。"
   ]
  },
  {
   "cell_type": "code",
   "execution_count": 40,
   "metadata": {},
   "outputs": [
    {
     "name": "stdout",
     "output_type": "stream",
     "text": [
      "8 7\n",
      "80\n"
     ]
    }
   ],
   "source": [
    "type OptBoxedTable = Option<Box<Table>>;\n",
    "\n",
    "struct Table {\n",
    "    id: String,\n",
    "    value: i32,\n",
    "    tail: OptBoxedTable,\n",
    "}\n",
    "\n",
    "impl Table {\n",
    "    fn lookup(t: OptBoxedTable, id: &str) -> (Option<i32>, OptBoxedTable) {\n",
    "        if let Some(t) = t {\n",
    "            if t.id == id {\n",
    "                return (Some(t.value), Some(t));\n",
    "            }\n",
    "            if let Some(tail) = t.tail {\n",
    "                return Self::lookup(Some(tail), id);\n",
    "            }\n",
    "            (None, Some(t))\n",
    "        } else {\n",
    "            (None, t)\n",
    "        }\n",
    "    }\n",
    "\n",
    "    fn update(tail: OptBoxedTable, id: String, value: i32) -> OptBoxedTable {\n",
    "        Some(Box::new(Self { id, value, tail }))\n",
    "    }\n",
    "}\n",
    "\n",
    "type IntAndTable = (i32, OptBoxedTable);\n",
    "\n",
    "fn inter_exp(exp: BoxedExp, t: OptBoxedTable) -> IntAndTable {\n",
    "    match *exp {\n",
    "        Exp::Id(id) => {\n",
    "            let (v, t) = Table::lookup(t, id.as_ref());\n",
    "            (\n",
    "                v.expect(format!(\"Error: {} is not defined.\", id).as_ref()),\n",
    "                t,\n",
    "            )\n",
    "        }\n",
    "        Exp::Num(v) => (v, t),\n",
    "        Exp::Op { left, op, right } => {\n",
    "            let (lv, t) = inter_exp(left, t);\n",
    "            let (rv, t) = inter_exp(right, t);\n",
    "            let v = match op {\n",
    "                BinOp::Plus => lv + rv,\n",
    "                BinOp::Minus => lv - rv,\n",
    "                BinOp::Times => lv * rv,\n",
    "                BinOp::Div => lv / rv,\n",
    "            };\n",
    "            (v, t)\n",
    "        }\n",
    "        Exp::Eseq(stm, exp) => inter_exp(exp, interp_stm(stm, t)),\n",
    "    }\n",
    "}\n",
    "\n",
    "fn print_exp_list(expList: BoxedExpList, t: OptBoxedTable) -> OptBoxedTable {\n",
    "    match *expList {\n",
    "        ExpList::Pair { head, tail } => {\n",
    "            let (v, t) = inter_exp(head, t);\n",
    "            print!(\"{} \", v);\n",
    "            print_exp_list(tail, t)\n",
    "        }\n",
    "        ExpList::Last(exp) => {\n",
    "            let (v, t) = inter_exp(exp, t);\n",
    "            println!(\"{}\", v);\n",
    "            t\n",
    "        }\n",
    "    }\n",
    "}\n",
    "\n",
    "fn interp_stm(stm: BoxedStm, t: OptBoxedTable) -> OptBoxedTable {\n",
    "    match *stm {\n",
    "        Stm::Compound(stm1, stm2) => interp_stm(stm2, interp_stm(stm1, t)),\n",
    "        Stm::Assign { id, exp } => {\n",
    "            let (v, t) = inter_exp(exp, t);\n",
    "            Table::update(t, id, v)\n",
    "        }\n",
    "        Stm::Print(expList) => print_exp_list(expList, t),\n",
    "    }\n",
    "}\n",
    "\n",
    "\n",
    "interp_stm(prog, None);"
   ]
  },
  {
   "cell_type": "markdown",
   "metadata": {},
   "source": [
    "## 习题\n",
    "\n",
    "1.1 下面这个简单的程序实现了一种长效的(persistent)函数式二叉搜索树，使得如果tree2 = insert(x, tree1), 则当使用 tree2时, tree1 任可以继续用于查找。"
   ]
  },
  {
   "cell_type": "code",
   "execution_count": 2,
   "metadata": {},
   "outputs": [],
   "source": [
    "use std::{any::Any, cmp::Ordering};\n",
    "\n",
    "type OptBoxTree = Option<Box<Tree>>;\n",
    "\n",
    "struct Tree {\n",
    "    left: OptBoxTree,\n",
    "    key: String,\n",
    "    binding: Box<dyn Any>,\n",
    "    right: OptBoxTree,\n",
    "}"
   ]
  },
  {
   "cell_type": "markdown",
   "metadata": {},
   "source": [
    "a. 实现函数 member, 若查找到了相应项，返回 TRUE；否则返回 FALSE。"
   ]
  },
  {
   "cell_type": "code",
   "execution_count": 3,
   "metadata": {},
   "outputs": [],
   "source": [
    "fn member(key: String, tree: &OptBoxTree) -> bool {\n",
    "    match tree {\n",
    "        Some(t) => match t.key.cmp(&key) {\n",
    "            Ordering::Equal => true,\n",
    "            Ordering::Less => member(key, &t.left),\n",
    "            Ordering::Greater => member(key, &t.right),\n",
    "        },\n",
    "        None => false,\n",
    "    }\n",
    "}"
   ]
  },
  {
   "cell_type": "markdown",
   "metadata": {},
   "source": [
    "b. 扩充这个程序使其不仅能判别成员关系，而且还能将键映射到其他绑定"
   ]
  },
  {
   "cell_type": "code",
   "execution_count": 4,
   "metadata": {},
   "outputs": [],
   "source": [
    "fn insert(key: String, binding: Box<dyn Any>, tree: OptBoxTree) -> OptBoxTree {\n",
    "    match tree {\n",
    "        Some(t) => match t.key.cmp(&key) {\n",
    "            Ordering::Equal => Some(Box::new(Tree {\n",
    "                left: insert(key, binding, t.left),\n",
    "                key: t.key,\n",
    "                binding: t.binding,\n",
    "                right: t.right,\n",
    "            })),\n",
    "            Ordering::Less => Some(Box::new(Tree {\n",
    "                left: t.left,\n",
    "                key: t.key,\n",
    "                binding: t.binding,\n",
    "                right: insert(key, binding, t.right),\n",
    "            })),\n",
    "            Ordering::Greater => Some(Box::new(Tree {\n",
    "                left: t.left,\n",
    "                key,\n",
    "                binding,\n",
    "                right: t.right,\n",
    "            })),\n",
    "        },\n",
    "        None => Some(Box::new(Tree {\n",
    "            left: None,\n",
    "            key,\n",
    "            binding,\n",
    "            right: None,\n",
    "        })),\n",
    "    }\n",
    "}\n",
    "\n",
    "fn lookup(key: String, tree: &OptBoxTree) -> Option<&Box<dyn Any>> {\n",
    "    match tree {\n",
    "        Some(t) => match t.key.cmp(&key) {\n",
    "            Ordering::Equal => Some(&t.binding),\n",
    "            Ordering::Less => lookup(key, &t.left),\n",
    "            Ordering::Greater => lookup(key, &t.right),\n",
    "        },\n",
    "        None => None,\n",
    "    }\n",
    "}"
   ]
  },
  {
   "cell_type": "code",
   "execution_count": null,
   "metadata": {},
   "outputs": [],
   "source": [
    "测试结果"
   ]
  },
  {
   "cell_type": "code",
   "execution_count": 5,
   "metadata": {},
   "outputs": [
    {
     "name": "stdout",
     "output_type": "stream",
     "text": [
      "true\n",
      "None\n"
     ]
    }
   ],
   "source": [
    "let t = insert(\"c\".to_owned(), Box::new(1), None);\n",
    "let t = insert(\"b\".to_owned(), Box::new(2), t);\n",
    "let t = insert(\"a\".to_owned(), Box::new(3), t);\n",
    "let t = insert(\"d\".to_owned(), Box::new(4), t);\n",
    "\n",
    "println!(\"{:?}\", member(\"a\".to_owned(), &t));\n",
    "println!(\"{:?}\", lookup(\"d\".to_owned(), &t));"
   ]
  },
  {
   "cell_type": "markdown",
   "metadata": {},
   "source": [
    "c. 这个程序构造的数是不平衡的；用下述插入顺序说明树的形成过程：\n",
    "(i)  t s p i p f b s t\n",
    "(ii) a b c d e f g h i"
   ]
  }
 ],
 "metadata": {
  "kernelspec": {
   "display_name": "Rust",
   "language": "rust",
   "name": "rust"
  },
  "language_info": {
   "codemirror_mode": "rust",
   "file_extension": ".rs",
   "mimetype": "text/rust",
   "name": "Rust",
   "pygment_lexer": "rust",
   "version": ""
  }
 },
 "nbformat": 4,
 "nbformat_minor": 4
}
